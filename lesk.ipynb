{
 "cells": [
  {
   "cell_type": "markdown",
   "id": "4252d7b5",
   "metadata": {},
   "source": [
    "## Word-Sense Disambiguation"
   ]
  },
  {
   "cell_type": "markdown",
   "id": "e7e9d174",
   "metadata": {},
   "source": [
    "Homonymy is when a word has multiple (entirely different) meanings. For example, consider the word ‘pupil’. It can either refer to students or eye pupils depending on the context in which it is used. \n",
    "\n",
    "Suppose you are searching for the word ‘pupil’. The search engines sometimes give data relevant to the context and sometimes give irrelevant data. Such things happen because the query may contain words whose meaning is ambiguous or those having several possible meanings.\n",
    "\n",
    "To solve this ambiguity problem, the Lesk algorithm is used."
   ]
  },
  {
   "cell_type": "code",
   "execution_count": 1,
   "id": "07b119cc",
   "metadata": {},
   "outputs": [],
   "source": [
    "from nltk.corpus import wordnet as wn\n",
    "from nltk import wsd"
   ]
  },
  {
   "cell_type": "code",
   "execution_count": 2,
   "id": "0e904340",
   "metadata": {},
   "outputs": [],
   "source": [
    "X = 'The die is cast.'\n",
    "Y = 'Roll the die to get a 6.'\n",
    "Z = 'What is dead may never die.'"
   ]
  },
  {
   "cell_type": "code",
   "execution_count": 3,
   "id": "a5acc832",
   "metadata": {},
   "outputs": [
    {
     "data": {
      "text/plain": [
       "[Synset('die.n.01'),\n",
       " Synset('die.n.02'),\n",
       " Synset('die.n.03'),\n",
       " Synset('die.v.01'),\n",
       " Synset('die.v.02'),\n",
       " Synset('die.v.03'),\n",
       " Synset('fail.v.04'),\n",
       " Synset('die.v.05'),\n",
       " Synset('die.v.06'),\n",
       " Synset('die.v.07'),\n",
       " Synset('die.v.08'),\n",
       " Synset('die.v.09'),\n",
       " Synset('die.v.10'),\n",
       " Synset('die.v.11')]"
      ]
     },
     "execution_count": 3,
     "metadata": {},
     "output_type": "execute_result"
    }
   ],
   "source": [
    "wn.synsets('die')"
   ]
  },
  {
   "cell_type": "code",
   "execution_count": 4,
   "id": "003f229d",
   "metadata": {},
   "outputs": [
    {
     "data": {
      "text/plain": [
       "[Synset('die.n.01'), Synset('die.n.02'), Synset('die.n.03')]"
      ]
     },
     "execution_count": 4,
     "metadata": {},
     "output_type": "execute_result"
    }
   ],
   "source": [
    "wn.synsets('die', pos=wn.NOUN)"
   ]
  },
  {
   "cell_type": "code",
   "execution_count": 5,
   "id": "c327558e",
   "metadata": {},
   "outputs": [
    {
     "name": "stdout",
     "output_type": "stream",
     "text": [
      "a small cube with 1 to 6 spots on the six faces; used in gambling to generate random numbers\n",
      "a device used for shaping metal\n",
      "a cutting tool that is fitted into a diestock and used for cutting male (external) screw threads on screws or bolts or pipes or rods\n"
     ]
    }
   ],
   "source": [
    "for syn in wn.synsets('die', pos=wn.NOUN):\n",
    "    print(syn.definition())"
   ]
  },
  {
   "cell_type": "code",
   "execution_count": 6,
   "id": "25038a6c",
   "metadata": {},
   "outputs": [
    {
     "name": "stdout",
     "output_type": "stream",
     "text": [
      "pass from physical life and lose all bodily attributes and functions necessary to sustain life\n",
      "suffer or face the pain of death\n",
      "be brought to or as if to the point of death by an intense emotion such as embarrassment, amusement, or shame\n",
      "stop operating or functioning\n",
      "feel indifferent towards\n",
      "languish as with love or desire\n",
      "cut or shape with a die\n",
      "to be on base at the end of an inning, of a player\n",
      "lose sparkle or bouquet\n",
      "disappear or come to an end\n",
      "suffer spiritual death; be damned (in the religious sense)\n"
     ]
    }
   ],
   "source": [
    "for syn in wn.synsets('die', pos=wn.VERB):\n",
    "    print(syn.definition())"
   ]
  },
  {
   "cell_type": "markdown",
   "id": "33c1235d",
   "metadata": {},
   "source": [
    "## Word-Sense Disambiguation with Lesk Algorithm"
   ]
  },
  {
   "cell_type": "code",
   "execution_count": 7,
   "id": "c56cf5fb",
   "metadata": {},
   "outputs": [
    {
     "name": "stdout",
     "output_type": "stream",
     "text": [
      "The die is cast.\n"
     ]
    },
    {
     "data": {
      "text/plain": [
       "Synset('die.v.07')"
      ]
     },
     "execution_count": 7,
     "metadata": {},
     "output_type": "execute_result"
    }
   ],
   "source": [
    "print(X)\n",
    "wsd.lesk(X.split(), 'die')"
   ]
  },
  {
   "cell_type": "code",
   "execution_count": 8,
   "id": "809d2350",
   "metadata": {},
   "outputs": [
    {
     "data": {
      "text/plain": [
       "'cut or shape with a die'"
      ]
     },
     "execution_count": 8,
     "metadata": {},
     "output_type": "execute_result"
    }
   ],
   "source": [
    "_.definition()"
   ]
  },
  {
   "cell_type": "code",
   "execution_count": 9,
   "id": "642a4df8",
   "metadata": {},
   "outputs": [
    {
     "data": {
      "text/plain": [
       "'a cutting tool that is fitted into a diestock and used for cutting male (external) screw threads on screws or bolts or pipes or rods'"
      ]
     },
     "execution_count": 9,
     "metadata": {},
     "output_type": "execute_result"
    }
   ],
   "source": [
    "wsd.lesk(X.split(), 'die', pos=wn.NOUN).definition()"
   ]
  },
  {
   "cell_type": "code",
   "execution_count": 10,
   "id": "d3383cad",
   "metadata": {},
   "outputs": [
    {
     "name": "stdout",
     "output_type": "stream",
     "text": [
      "Roll the die to get a 6.\n"
     ]
    },
    {
     "data": {
      "text/plain": [
       "'to be on base at the end of an inning, of a player'"
      ]
     },
     "execution_count": 10,
     "metadata": {},
     "output_type": "execute_result"
    }
   ],
   "source": [
    "print(Y)\n",
    "wsd.lesk(Y.split(), 'die').definition()"
   ]
  },
  {
   "cell_type": "code",
   "execution_count": 11,
   "id": "2cedb8c0",
   "metadata": {},
   "outputs": [
    {
     "data": {
      "text/plain": [
       "'a small cube with 1 to 6 spots on the six faces; used in gambling to generate random numbers'"
      ]
     },
     "execution_count": 11,
     "metadata": {},
     "output_type": "execute_result"
    }
   ],
   "source": [
    "wsd.lesk(Y.split(), 'die', pos=wn.NOUN).definition()"
   ]
  },
  {
   "cell_type": "code",
   "execution_count": 12,
   "id": "a4574ba4",
   "metadata": {},
   "outputs": [
    {
     "name": "stdout",
     "output_type": "stream",
     "text": [
      "What is dead may never die.\n"
     ]
    },
    {
     "data": {
      "text/plain": [
       "'a cutting tool that is fitted into a diestock and used for cutting male (external) screw threads on screws or bolts or pipes or rods'"
      ]
     },
     "execution_count": 12,
     "metadata": {},
     "output_type": "execute_result"
    }
   ],
   "source": [
    "print(Z)\n",
    "wsd.lesk(Z.split(), 'die').definition()"
   ]
  },
  {
   "cell_type": "code",
   "execution_count": 13,
   "id": "91b5adef",
   "metadata": {},
   "outputs": [
    {
     "data": {
      "text/plain": [
       "'stop operating or functioning'"
      ]
     },
     "execution_count": 13,
     "metadata": {},
     "output_type": "execute_result"
    }
   ],
   "source": [
    "wsd.lesk(Z.split(), 'die', pos=wn.VERB).definition()"
   ]
  },
  {
   "cell_type": "markdown",
   "id": "8774ab26",
   "metadata": {},
   "source": [
    "## Automatic POS Tagging + Lesk with spaCy"
   ]
  },
  {
   "cell_type": "markdown",
   "id": "f452f698",
   "metadata": {},
   "source": [
    "Although the Lesk algorithm could give the correct sense, we had to provide the POS tag of the word as the input for it to perform accurately. But we are manually entering the POS tag for each word.\n",
    "\n",
    "We created a function that automatically detects the POS tag of a function and provides it to the Lesk algorithm. We can now use this function to disambiguate words and find their correct sense."
   ]
  },
  {
   "cell_type": "code",
   "execution_count": 14,
   "id": "3b37fb8c",
   "metadata": {},
   "outputs": [
    {
     "name": "stdout",
     "output_type": "stream",
     "text": [
      "Requirement already satisfied: spacy in /Users/Kirwe-Macbook/anaconda3/lib/python3.6/site-packages (2.3.5)\n",
      "Requirement already satisfied: cymem<2.1.0,>=2.0.2 in /Users/Kirwe-Macbook/anaconda3/lib/python3.6/site-packages (from spacy) (2.0.2)\n",
      "Requirement already satisfied: catalogue<1.1.0,>=0.0.7 in /Users/Kirwe-Macbook/anaconda3/lib/python3.6/site-packages (from spacy) (1.0.0)\n",
      "Requirement already satisfied: plac<1.2.0,>=0.9.6 in /Users/Kirwe-Macbook/anaconda3/lib/python3.6/site-packages (from spacy) (0.9.6)\n",
      "Requirement already satisfied: murmurhash<1.1.0,>=0.28.0 in /Users/Kirwe-Macbook/anaconda3/lib/python3.6/site-packages (from spacy) (1.0.2)\n",
      "Requirement already satisfied: requests<3.0.0,>=2.13.0 in /Users/Kirwe-Macbook/anaconda3/lib/python3.6/site-packages (from spacy) (2.27.1)\n",
      "Requirement already satisfied: numpy>=1.15.0 in /Users/Kirwe-Macbook/anaconda3/lib/python3.6/site-packages (from spacy) (1.19.5)\n",
      "Requirement already satisfied: blis<0.8.0,>=0.4.0 in /Users/Kirwe-Macbook/anaconda3/lib/python3.6/site-packages (from spacy) (0.7.7)\n",
      "Requirement already satisfied: thinc<7.5.0,>=7.4.1 in /Users/Kirwe-Macbook/anaconda3/lib/python3.6/site-packages (from spacy) (7.4.5)\n",
      "Requirement already satisfied: preshed<3.1.0,>=3.0.2 in /Users/Kirwe-Macbook/anaconda3/lib/python3.6/site-packages (from spacy) (3.0.6)\n",
      "Requirement already satisfied: srsly<1.1.0,>=1.0.2 in /Users/Kirwe-Macbook/anaconda3/lib/python3.6/site-packages (from spacy) (1.0.5)\n",
      "Requirement already satisfied: wasabi<1.1.0,>=0.4.0 in /Users/Kirwe-Macbook/anaconda3/lib/python3.6/site-packages (from spacy) (0.9.1)\n",
      "Requirement already satisfied: setuptools in /Users/Kirwe-Macbook/anaconda3/lib/python3.6/site-packages (from spacy) (58.0.4)\n",
      "Requirement already satisfied: tqdm<5.0.0,>=4.38.0 in /Users/Kirwe-Macbook/anaconda3/lib/python3.6/site-packages (from spacy) (4.62.3)\n",
      "Requirement already satisfied: importlib-metadata>=0.20 in /Users/Kirwe-Macbook/anaconda3/lib/python3.6/site-packages (from catalogue<1.1.0,>=0.0.7->spacy) (4.8.1)\n",
      "Requirement already satisfied: typing-extensions>=3.6.4 in /Users/Kirwe-Macbook/anaconda3/lib/python3.6/site-packages (from importlib-metadata>=0.20->catalogue<1.1.0,>=0.0.7->spacy) (3.7.4.3)\n",
      "Requirement already satisfied: zipp>=0.5 in /Users/Kirwe-Macbook/anaconda3/lib/python3.6/site-packages (from importlib-metadata>=0.20->catalogue<1.1.0,>=0.0.7->spacy) (3.6.0)\n",
      "Requirement already satisfied: urllib3<1.27,>=1.21.1 in /Users/Kirwe-Macbook/anaconda3/lib/python3.6/site-packages (from requests<3.0.0,>=2.13.0->spacy) (1.25.8)\n",
      "Requirement already satisfied: idna<4,>=2.5 in /Users/Kirwe-Macbook/anaconda3/lib/python3.6/site-packages (from requests<3.0.0,>=2.13.0->spacy) (3.3)\n",
      "Requirement already satisfied: charset-normalizer~=2.0.0 in /Users/Kirwe-Macbook/anaconda3/lib/python3.6/site-packages (from requests<3.0.0,>=2.13.0->spacy) (2.0.4)\n",
      "Requirement already satisfied: certifi>=2017.4.17 in /Users/Kirwe-Macbook/anaconda3/lib/python3.6/site-packages (from requests<3.0.0,>=2.13.0->spacy) (2021.5.30)\n"
     ]
    }
   ],
   "source": [
    "!pip install spacy"
   ]
  },
  {
   "cell_type": "code",
   "execution_count": 15,
   "id": "9a6e505f",
   "metadata": {},
   "outputs": [],
   "source": [
    "from spacy.cli import download\n",
    "from spacy import load\n",
    "# download('en_core_web_sm')\n",
    "nlp = load('en_core_web_sm')"
   ]
  },
  {
   "cell_type": "code",
   "execution_count": 16,
   "id": "5979e8ad",
   "metadata": {},
   "outputs": [],
   "source": [
    "import warnings\n",
    "\n",
    "POS_MAP = {\n",
    "    'VERB': wn.VERB,\n",
    "    'NOUN': wn.NOUN,\n",
    "    'PROPN': wn.NOUN\n",
    "}\n",
    "\n",
    "\n",
    "def lesk(doc, word):\n",
    "    found = False\n",
    "    for token in doc:\n",
    "        if token.text == word:\n",
    "            word = token\n",
    "            found = True\n",
    "            break\n",
    "    if not found:\n",
    "        raise ValueError(f'Word \\\"{word}\\\" does not appear in the document: {doc.text}.')\n",
    "    pos = POS_MAP.get(word.pos_, False)\n",
    "    if not pos:\n",
    "        warnings.warn(f'POS tag for {word.text} not found in wordnet. Falling back to default Lesk behaviour.')\n",
    "    args = [c.text for c in doc], word.text\n",
    "    kwargs = dict(pos=pos)\n",
    "    return wsd.lesk(*args, **kwargs)"
   ]
  },
  {
   "cell_type": "code",
   "execution_count": 17,
   "id": "752e2cfd",
   "metadata": {},
   "outputs": [],
   "source": [
    "doc = nlp('Roll the die to get a 6.')"
   ]
  },
  {
   "cell_type": "code",
   "execution_count": 18,
   "id": "5ae00d02",
   "metadata": {},
   "outputs": [
    {
     "data": {
      "text/plain": [
       "Synset('die.n.01')"
      ]
     },
     "execution_count": 18,
     "metadata": {},
     "output_type": "execute_result"
    }
   ],
   "source": [
    "lesk(doc, 'die')"
   ]
  },
  {
   "cell_type": "code",
   "execution_count": 19,
   "id": "248382f6",
   "metadata": {},
   "outputs": [
    {
     "data": {
      "text/plain": [
       "'a small cube with 1 to 6 spots on the six faces; used in gambling to generate random numbers'"
      ]
     },
     "execution_count": 19,
     "metadata": {},
     "output_type": "execute_result"
    }
   ],
   "source": [
    "lesk(doc, 'die').definition()"
   ]
  },
  {
   "cell_type": "code",
   "execution_count": 20,
   "id": "cae5ca5b",
   "metadata": {},
   "outputs": [
    {
     "data": {
      "text/plain": [
       "\"a widely used search engine that uses text-matching techniques to find web pages that are important and relevant to a user's search\""
      ]
     },
     "execution_count": 20,
     "metadata": {},
     "output_type": "execute_result"
    }
   ],
   "source": [
    "lesk(nlp('I work at google.'), 'google').definition()"
   ]
  },
  {
   "cell_type": "code",
   "execution_count": 21,
   "id": "5f3043e2",
   "metadata": {},
   "outputs": [
    {
     "data": {
      "text/plain": [
       "'search the internet (for information) using the Google search engine'"
      ]
     },
     "execution_count": 21,
     "metadata": {},
     "output_type": "execute_result"
    }
   ],
   "source": [
    "lesk(nlp('I will google it.'), 'google').definition()"
   ]
  },
  {
   "cell_type": "code",
   "execution_count": null,
   "id": "d222efdc",
   "metadata": {},
   "outputs": [],
   "source": []
  }
 ],
 "metadata": {
  "kernelspec": {
   "display_name": "Python 3",
   "language": "python",
   "name": "python3"
  },
  "language_info": {
   "codemirror_mode": {
    "name": "ipython",
    "version": 3
   },
   "file_extension": ".py",
   "mimetype": "text/x-python",
   "name": "python",
   "nbconvert_exporter": "python",
   "pygments_lexer": "ipython3",
   "version": "3.6.10"
  }
 },
 "nbformat": 4,
 "nbformat_minor": 5
}
