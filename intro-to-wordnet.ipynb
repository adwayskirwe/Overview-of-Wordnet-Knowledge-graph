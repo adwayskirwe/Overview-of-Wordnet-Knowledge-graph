{
 "cells": [
  {
   "cell_type": "markdown",
   "id": "d8e5279d",
   "metadata": {},
   "source": [
    "## [WordNet®](https://wordnet.princeton.edu/) Tutorial\n",
    "\n",
    "### Navigating Wornet Relationships"
   ]
  },
  {
   "cell_type": "code",
   "execution_count": 1,
   "id": "b37e9688",
   "metadata": {},
   "outputs": [
    {
     "name": "stdout",
     "output_type": "stream",
     "text": [
      "Requirement already satisfied: nltk in /Users/Kirwe-Macbook/anaconda3/lib/python3.6/site-packages (3.6.7)\n",
      "Requirement already satisfied: click in /Users/Kirwe-Macbook/anaconda3/lib/python3.6/site-packages (from nltk) (8.0.3)\n",
      "Requirement already satisfied: joblib in /Users/Kirwe-Macbook/anaconda3/lib/python3.6/site-packages (from nltk) (0.13.2)\n",
      "Requirement already satisfied: regex>=2021.8.3 in /Users/Kirwe-Macbook/anaconda3/lib/python3.6/site-packages (from nltk) (2021.8.3)\n",
      "Requirement already satisfied: tqdm in /Users/Kirwe-Macbook/anaconda3/lib/python3.6/site-packages (from nltk) (4.62.3)\n",
      "Requirement already satisfied: importlib-metadata in /Users/Kirwe-Macbook/anaconda3/lib/python3.6/site-packages (from click->nltk) (4.8.1)\n",
      "Requirement already satisfied: zipp>=0.5 in /Users/Kirwe-Macbook/anaconda3/lib/python3.6/site-packages (from importlib-metadata->click->nltk) (3.6.0)\n",
      "Requirement already satisfied: typing-extensions>=3.6.4 in /Users/Kirwe-Macbook/anaconda3/lib/python3.6/site-packages (from importlib-metadata->click->nltk) (3.7.4.3)\n"
     ]
    }
   ],
   "source": [
    "!pip install nltk"
   ]
  },
  {
   "cell_type": "code",
   "execution_count": 2,
   "id": "e3d817b3",
   "metadata": {},
   "outputs": [
    {
     "name": "stderr",
     "output_type": "stream",
     "text": [
      "[nltk_data] Downloading package omw-1.4 to /Users/Kirwe-\n",
      "[nltk_data]     Macbook/nltk_data...\n",
      "[nltk_data]   Package omw-1.4 is already up-to-date!\n"
     ]
    },
    {
     "data": {
      "text/plain": [
       "True"
      ]
     },
     "execution_count": 2,
     "metadata": {},
     "output_type": "execute_result"
    }
   ],
   "source": [
    "from nltk import download\n",
    "import nltk\n",
    "nltk.download('omw-1.4')"
   ]
  },
  {
   "cell_type": "code",
   "execution_count": 3,
   "id": "f854d5e7",
   "metadata": {},
   "outputs": [
    {
     "name": "stderr",
     "output_type": "stream",
     "text": [
      "[nltk_data] Downloading package wordnet to /Users/Kirwe-\n",
      "[nltk_data]     Macbook/nltk_data...\n",
      "[nltk_data]   Package wordnet is already up-to-date!\n"
     ]
    },
    {
     "data": {
      "text/plain": [
       "True"
      ]
     },
     "execution_count": 3,
     "metadata": {},
     "output_type": "execute_result"
    }
   ],
   "source": [
    "download('wordnet')"
   ]
  },
  {
   "cell_type": "code",
   "execution_count": 4,
   "id": "496b6f76",
   "metadata": {},
   "outputs": [],
   "source": [
    "from nltk.corpus import wordnet"
   ]
  },
  {
   "cell_type": "code",
   "execution_count": 5,
   "id": "c6a02308",
   "metadata": {},
   "outputs": [
    {
     "data": {
      "text/plain": [
       "[Synset('tractor.n.01'), Synset('tractor.n.02')]"
      ]
     },
     "execution_count": 5,
     "metadata": {},
     "output_type": "execute_result"
    }
   ],
   "source": [
    "# Synsets\n",
    "\n",
    "tractor = wordnet.synsets('tractor')\n",
    "tractor"
   ]
  },
  {
   "cell_type": "code",
   "execution_count": 6,
   "id": "18e49a3b",
   "metadata": {},
   "outputs": [
    {
     "data": {
      "text/plain": [
       "['a wheeled vehicle with large wheels; used in farming and other applications',\n",
       " 'a truck that has a cab but no body; used for pulling large trailers or vans']"
      ]
     },
     "execution_count": 6,
     "metadata": {},
     "output_type": "execute_result"
    }
   ],
   "source": [
    "# Definitions of senses\n",
    "\n",
    "[syn.definition() for syn in tractor]"
   ]
  },
  {
   "cell_type": "code",
   "execution_count": 7,
   "id": "151ce7ae",
   "metadata": {},
   "outputs": [
    {
     "data": {
      "text/plain": [
       "[Synset('self-propelled_vehicle.n.01')]"
      ]
     },
     "execution_count": 7,
     "metadata": {},
     "output_type": "execute_result"
    }
   ],
   "source": [
    "# Hypernyms: Relation between a concept and its superordinate\n",
    "\n",
    "tractor = wordnet.synset('tractor.n.01')\n",
    "tractor.hypernyms()"
   ]
  },
  {
   "cell_type": "code",
   "execution_count": 8,
   "id": "81df34ef",
   "metadata": {},
   "outputs": [
    {
     "data": {
      "text/plain": [
       "[Synset('wheeled_vehicle.n.01')]"
      ]
     },
     "execution_count": 8,
     "metadata": {},
     "output_type": "execute_result"
    }
   ],
   "source": [
    "self_propelled_vehicle = wordnet.synset('self-propelled_vehicle.n.01')\n",
    "self_propelled_vehicle.hypernyms()"
   ]
  },
  {
   "cell_type": "code",
   "execution_count": 9,
   "id": "f4eb8bcc",
   "metadata": {},
   "outputs": [
    {
     "data": {
      "text/plain": [
       "[Synset('axle.n.01'),\n",
       " Synset('brake.n.01'),\n",
       " Synset('splasher.n.01'),\n",
       " Synset('wheel.n.01')]"
      ]
     },
     "execution_count": 9,
     "metadata": {},
     "output_type": "execute_result"
    }
   ],
   "source": [
    "# Meronyms: Relation between a part and its whole\n",
    "\n",
    "wheeled_vehicle = wordnet.synset('wheeled_vehicle.n.01')\n",
    "wheeled_vehicle.part_meronyms()"
   ]
  },
  {
   "cell_type": "code",
   "execution_count": 10,
   "id": "79252626",
   "metadata": {},
   "outputs": [
    {
     "data": {
      "text/plain": [
       "[Synset('baby_buggy.n.01'),\n",
       " Synset('bicycle.n.01'),\n",
       " Synset('boneshaker.n.01'),\n",
       " Synset('car.n.02'),\n",
       " Synset('handcart.n.01'),\n",
       " Synset('horse-drawn_vehicle.n.01'),\n",
       " Synset('motor_scooter.n.01'),\n",
       " Synset('rolling_stock.n.01'),\n",
       " Synset('scooter.n.02'),\n",
       " Synset('self-propelled_vehicle.n.01'),\n",
       " Synset('skateboard.n.01'),\n",
       " Synset('trailer.n.04'),\n",
       " Synset('tricycle.n.01'),\n",
       " Synset('unicycle.n.01'),\n",
       " Synset('wagon.n.01'),\n",
       " Synset('wagon.n.04'),\n",
       " Synset('welcome_wagon.n.01')]"
      ]
     },
     "execution_count": 10,
     "metadata": {},
     "output_type": "execute_result"
    }
   ],
   "source": [
    "# Hyponyms: Relation between a concept and its subordinate\n",
    "\n",
    "wheeled_vehicle.hyponyms()"
   ]
  },
  {
   "cell_type": "code",
   "execution_count": 11,
   "id": "e44321d4",
   "metadata": {},
   "outputs": [
    {
     "data": {
      "text/plain": [
       "[Synset('wheeled_vehicle.n.01')]"
      ]
     },
     "execution_count": 11,
     "metadata": {},
     "output_type": "execute_result"
    }
   ],
   "source": [
    "# Holonyms: Relation between whole and its parts\n",
    "\n",
    "axle = wordnet.synset('axle.n.01')\n",
    "axle.part_holonyms()"
   ]
  },
  {
   "cell_type": "code",
   "execution_count": 12,
   "id": "d6f0edbc",
   "metadata": {},
   "outputs": [
    {
     "data": {
      "text/plain": [
       "[Synset('armored_vehicle.n.01'),\n",
       " Synset('carrier.n.02'),\n",
       " Synset('forklift.n.01'),\n",
       " Synset('locomotive.n.01'),\n",
       " Synset('motor_vehicle.n.01'),\n",
       " Synset('personnel_carrier.n.01'),\n",
       " Synset('reconnaissance_vehicle.n.01'),\n",
       " Synset('recreational_vehicle.n.01'),\n",
       " Synset('streetcar.n.01'),\n",
       " Synset('tracked_vehicle.n.01'),\n",
       " Synset('tractor.n.01'),\n",
       " Synset('weapons_carrier.n.01')]"
      ]
     },
     "execution_count": 12,
     "metadata": {},
     "output_type": "execute_result"
    }
   ],
   "source": [
    "self_propelled_vehicle.hyponyms()"
   ]
  },
  {
   "cell_type": "code",
   "execution_count": 13,
   "id": "ae44d0b0",
   "metadata": {},
   "outputs": [
    {
     "data": {
      "text/plain": [
       "[Synset('amphibian.n.01'),\n",
       " Synset('bloodmobile.n.01'),\n",
       " Synset('car.n.01'),\n",
       " Synset('doodlebug.n.01'),\n",
       " Synset('four-wheel_drive.n.01'),\n",
       " Synset('go-kart.n.01'),\n",
       " Synset('golfcart.n.01'),\n",
       " Synset('hearse.n.01'),\n",
       " Synset('motorcycle.n.01'),\n",
       " Synset('snowplow.n.01'),\n",
       " Synset('truck.n.01')]"
      ]
     },
     "execution_count": 13,
     "metadata": {},
     "output_type": "execute_result"
    }
   ],
   "source": [
    "motor_vehicle = wordnet.synset('motor_vehicle.n.01')\n",
    "motor_vehicle.hyponyms()"
   ]
  },
  {
   "cell_type": "code",
   "execution_count": 14,
   "id": "0916d7b9",
   "metadata": {},
   "outputs": [
    {
     "data": {
      "text/plain": [
       "[Synset('accelerator.n.01'),\n",
       " Synset('air_bag.n.01'),\n",
       " Synset('auto_accessory.n.01'),\n",
       " Synset('automobile_engine.n.01'),\n",
       " Synset('automobile_horn.n.01'),\n",
       " Synset('buffer.n.06'),\n",
       " Synset('bumper.n.02'),\n",
       " Synset('car_door.n.01'),\n",
       " Synset('car_mirror.n.01'),\n",
       " Synset('car_seat.n.01'),\n",
       " Synset('car_window.n.01'),\n",
       " Synset('fender.n.01'),\n",
       " Synset('first_gear.n.01'),\n",
       " Synset('floorboard.n.02'),\n",
       " Synset('gasoline_engine.n.01'),\n",
       " Synset('glove_compartment.n.01'),\n",
       " Synset('grille.n.02'),\n",
       " Synset('high_gear.n.01'),\n",
       " Synset('hood.n.09'),\n",
       " Synset('luggage_compartment.n.01'),\n",
       " Synset('rear_window.n.01'),\n",
       " Synset('reverse.n.02'),\n",
       " Synset('roof.n.02'),\n",
       " Synset('running_board.n.01'),\n",
       " Synset('stabilizer_bar.n.01'),\n",
       " Synset('sunroof.n.01'),\n",
       " Synset('tail_fin.n.02'),\n",
       " Synset('third_gear.n.01'),\n",
       " Synset('window.n.02')]"
      ]
     },
     "execution_count": 14,
     "metadata": {},
     "output_type": "execute_result"
    }
   ],
   "source": [
    "car = wordnet.synset('car.n.01')\n",
    "car.part_meronyms()"
   ]
  },
  {
   "cell_type": "code",
   "execution_count": null,
   "id": "5ad8d8d6",
   "metadata": {},
   "outputs": [],
   "source": []
  }
 ],
 "metadata": {
  "kernelspec": {
   "display_name": "Python 3",
   "language": "python",
   "name": "python3"
  },
  "language_info": {
   "codemirror_mode": {
    "name": "ipython",
    "version": 3
   },
   "file_extension": ".py",
   "mimetype": "text/x-python",
   "name": "python",
   "nbconvert_exporter": "python",
   "pygments_lexer": "ipython3",
   "version": "3.6.10"
  }
 },
 "nbformat": 4,
 "nbformat_minor": 5
}
